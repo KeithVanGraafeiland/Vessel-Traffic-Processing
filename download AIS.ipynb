{
 "cells": [
  {
   "cell_type": "code",
   "execution_count": null,
   "metadata": {},
   "outputs": [],
   "source": [
    "import os\n",
    "import requests\n",
    "from bs4 import BeautifulSoup\n",
    "import zipfile\n",
    "\n",
    "# Directory containing the zip files\n",
    "directory = r'C:\\AIS_ZIP\\2024'\n",
    "\n",
    "# URL to check for updates\n",
    "url = 'https://coast.noaa.gov/htdata/CMSP/AISDataHandler/2024/index.html'\n",
    "\n",
    "# Get the list of existing zip files in the directory\n",
    "existing_files = set(os.listdir(directory))\n",
    "\n",
    "# Fetch the HTML content from the URL\n",
    "response = requests.get(url)\n",
    "soup = BeautifulSoup(response.content, 'html.parser')\n",
    "\n",
    "# Get the list of zip files from the HTML content\n",
    "remote_files = set(link['href'].split('/')[-1] for link in soup.find_all('a', href=True) if link['href'].endswith('.zip'))\n",
    "\n",
    "# Determine which files need to be downloaded (new or updated)\n",
    "files_to_download = remote_files - existing_files\n",
    "\n",
    "print(files_to_download)\n",
    "print(f\"Number of files to download: {len(files_to_download)}\")\n",
    "\n",
    "for file_name in files_to_download:\n",
    "    zip_path = os.path.join(directory, file_name)\n",
    "    zip_url = url.rsplit('/', 1)[0] + '/' + file_name\n",
    "    zip_response = requests.get(zip_url)\n",
    "    with open(zip_path, 'wb') as f:\n",
    "        f.write(zip_response.content)\n",
    "    print(f'Downloaded: {file_name}')\n",
    "    \n",
    "    # Extract the downloaded zip file\n",
    "    extract_directory = r'C:\\AIS\\AIS_2024'\n",
    "    with zipfile.ZipFile(zip_path, 'r') as zip_ref:\n",
    "        zip_ref.extractall(extract_directory)\n",
    "    print(f'Extracted: {file_name} to {extract_directory}')"
   ]
  }
 ],
 "metadata": {
  "kernelspec": {
   "display_name": "arcgispro-py3",
   "language": "python",
   "name": "python3"
  },
  "language_info": {
   "codemirror_mode": {
    "name": "ipython",
    "version": 3
   },
   "file_extension": ".py",
   "mimetype": "text/x-python",
   "name": "python",
   "nbconvert_exporter": "python",
   "pygments_lexer": "ipython3",
   "version": "3.11.10"
  }
 },
 "nbformat": 4,
 "nbformat_minor": 2
}
