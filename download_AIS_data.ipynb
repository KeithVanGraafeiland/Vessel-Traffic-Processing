{
 "cells": [
  {
   "cell_type": "code",
   "execution_count": null,
   "metadata": {},
   "outputs": [],
   "source": [
    "import requests\n",
    "import re\n",
    "from bs4 import BeautifulSoup\n",
    "import arcpy\n",
    "import os\n",
    "import urllib.request\n",
    "arcpy.env.overwriteOutput = True\n",
    "  \n",
    "url = 'https://coast.noaa.gov/htdata/CMSP/AISDataHandler/2016/index.html'\n",
    "reqs = requests.get(url)\n",
    "soup = BeautifulSoup(reqs.text, 'html.parser')\n",
    "download_dir = r\"E:\\ArcGIS\\Projects\\AIS\\processing\\AIS\\download\"\n",
    "# GDB = r\"D:\\ArcGIS Pro Projects VOL2\\UDel 3D Globe\\UDel 3D Globe.gdb\"\n",
    "# arcpy.env.workspace = download_dir\n",
    "\n",
    "urls = []\n",
    "for link in soup.find_all('a',string=re.compile(\".zip\"),limit=10):\n",
    "    \n",
    "# for link in soup.find_all('a',string=re.compile(\".json\")):\n",
    "    full_url = ('https://www.oceanic.udel.edu'+ link.get('href'))\n",
    "    json_filename = (full_url.split('/')[8])\n",
    "    json_fullpath = str(os.path.join(download_dir , json_filename))\n",
    "    fc_name = (json_filename.split('.')[0]).replace('-','_')\n",
    "    fc_path = str(os.path.join(GDB,fc_name))\n",
    "    jsonfile = urllib.request\n",
    "    if not os.path.exists(json_fullpath):\n",
    "        try:\n",
    "            jsonfile.urlretrieve(full_url, json_fullpath)\n",
    "            arcpy.conversion.JSONToFeatures(json_fullpath, fc_path, 'POINT')\n",
    "            print(\"File \" + json_filename + \" successfully processed!\")\n",
    "        except:\n",
    "            print(\"***File \" + json_filename + \" FAILED***\")\n",
    "            pass\n"
   ]
  }
 ],
 "metadata": {
  "language_info": {
   "name": "python"
  }
 },
 "nbformat": 4,
 "nbformat_minor": 2
}
