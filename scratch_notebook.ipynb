{
 "cells": [
  {
   "cell_type": "code",
   "execution_count": null,
   "metadata": {},
   "outputs": [],
   "source": [
    "import arcpy"
   ]
  },
  {
   "cell_type": "code",
   "execution_count": null,
   "metadata": {},
   "outputs": [],
   "source": [
    "arcpy.management.CreateVectorTileIndex(\n",
    "    in_map=\"Vector Tile Template1\",\n",
    "    out_featureclass=r\"E:\\ArcGIS\\Projects\\AIS\\processing\\Vector_Tiles\\Test\\vector_tile.gdb\\vector_tile_index\",\n",
    "    service_type=\"ONLINE\",\n",
    "    tiling_scheme=None,\n",
    "    vertex_count=1000\n",
    ")"
   ]
  },
  {
   "cell_type": "code",
   "execution_count": null,
   "metadata": {},
   "outputs": [],
   "source": [
    "arcpy.env.workspace = tracks_db\n",
    "tracks_list = []\n",
    "for fc in arcpy.ListFeatureClasses(\"*2016_01*\"):\n",
    "    tracks_list.append(fc)\n",
    "print(tracks_list)"
   ]
  }
 ],
 "metadata": {
  "language_info": {
   "name": "python"
  }
 },
 "nbformat": 4,
 "nbformat_minor": 2
}
